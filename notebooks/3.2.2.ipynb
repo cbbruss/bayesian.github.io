{
 "cells": [
  {
   "cell_type": "code",
   "execution_count": 1,
   "metadata": {},
   "outputs": [],
   "source": [
    "# 3.2.2\n",
    "\n",
    "from scipy.stats import gamma\n",
    "\n",
    "# Define Priors\n",
    "a = 2\n",
    "b = 1\n",
    "\n",
    "# Data in Group 1\n",
    "n1 = 111\n",
    "sy1 = 217\n",
    "\n",
    "# Data in Group 2\n",
    "n2 = 44\n",
    "sy2 = 66"
   ]
  },
  {
   "cell_type": "code",
   "execution_count": 2,
   "metadata": {},
   "outputs": [
    {
     "data": {
      "text/plain": [
       "1.9553571428571428"
      ]
     },
     "execution_count": 2,
     "metadata": {},
     "output_type": "execute_result"
    }
   ],
   "source": [
    "# Posterior mean\n",
    "(a + sy1) / (b + n1)"
   ]
  },
  {
   "cell_type": "code",
   "execution_count": 3,
   "metadata": {},
   "outputs": [
    {
     "data": {
      "text/plain": [
       "1.9464285714285714"
      ]
     },
     "execution_count": 3,
     "metadata": {},
     "output_type": "execute_result"
    }
   ],
   "source": [
    "# Posterior Mode\n",
    "(a + sy1 - 1) / (b + n1)"
   ]
  },
  {
   "cell_type": "code",
   "execution_count": 4,
   "metadata": {},
   "outputs": [
    {
     "data": {
      "text/plain": [
       "array([1.70494315, 2.22267902])"
      ]
     },
     "execution_count": 4,
     "metadata": {},
     "output_type": "execute_result"
    }
   ],
   "source": [
    "# Posterior 95% Confidence Interval\n",
    "\n",
    "p = [0.025, 0.975]\n",
    "rate = b + n1\n",
    "shape = a + sy1\n",
    "\n",
    "(1 / rate) * gamma.ppf(q=p,a=shape)"
   ]
  },
  {
   "cell_type": "code",
   "execution_count": 5,
   "metadata": {},
   "outputs": [
    {
     "data": {
      "text/plain": [
       "1.511111111111111"
      ]
     },
     "execution_count": 5,
     "metadata": {},
     "output_type": "execute_result"
    }
   ],
   "source": [
    "(a + sy2) / (b + n2)"
   ]
  },
  {
   "cell_type": "code",
   "execution_count": 6,
   "metadata": {},
   "outputs": [
    {
     "data": {
      "text/plain": [
       "1.488888888888889"
      ]
     },
     "execution_count": 6,
     "metadata": {},
     "output_type": "execute_result"
    }
   ],
   "source": [
    "(a + sy2 - 1) / (b + n2)"
   ]
  },
  {
   "cell_type": "code",
   "execution_count": 7,
   "metadata": {},
   "outputs": [
    {
     "data": {
      "text/plain": [
       "array([1.17343691, 1.89083626])"
      ]
     },
     "execution_count": 7,
     "metadata": {},
     "output_type": "execute_result"
    }
   ],
   "source": [
    "rate = b + n2\n",
    "shape = a + sy2\n",
    "\n",
    "(1 / rate) * gamma.ppf(q=p, a=shape)"
   ]
  },
  {
   "cell_type": "code",
   "execution_count": 8,
   "metadata": {},
   "outputs": [
    {
     "data": {
      "image/png": "[encoded data removed]",
      "text/plain": [
       "<Figure size 432x288 with 1 Axes>"
      ]
     },
     "metadata": {
      "needs_background": "light"
     },
     "output_type": "display_data"
    }
   ],
   "source": [
    "import matplotlib.pyplot as plt\n",
    "import numpy as np\n",
    "\n",
    "x = [i/20 for i in range(0, 100)]\n",
    "common_prior = gamma.pdf(x=x, a=a, scale=1)\n",
    "theta1 = gamma.pdf(x=x, a=(a + sy1), scale = 1/(b + n1) )\n",
    "theta2 = gamma.pdf(x=x, a=(a + sy2), scale = 1/(b + n2) )\n",
    "plt.plot(common_prior);\n",
    "plt.plot(theta1);\n",
    "plt.plot(theta2);\n",
    "plt.xticks([0, 20, 40, 60, 80, 100], labels=['0', '1', '2', '3', '4', '5']);\n",
    "plt.xlabel('\\u03B8');\n",
    "plt.ylabel('p(\\u03B8|y1...yn)');"
   ]
  },
  {
   "cell_type": "code",
   "execution_count": 9,
   "metadata": {},
   "outputs": [
    {
     "data": {
      "text/plain": [
       "array([1.42747280e-01, 2.76651808e-01, 2.69307070e-01, 1.75565966e-01,\n",
       "       8.62293019e-02, 3.40338661e-02, 1.12442271e-02, 3.19842112e-03,\n",
       "       7.99605280e-04, 1.78476301e-04, 3.60111475e-05])"
      ]
     },
     "execution_count": 9,
     "metadata": {},
     "output_type": "execute_result"
    }
   ],
   "source": [
    "from scipy.stats import nbinom\n",
    "\n",
    "y = np.arange(11)\n",
    "\n",
    "size = a + sy1\n",
    "mu = (a + sy1) / (b + n1)\n",
    "prob = size/(size+mu)\n",
    "\n",
    "pp1 = nbinom.pmf(k=y, n=size, p=prob)\n",
    "pp1"
   ]
  },
  {
   "cell_type": "code",
   "execution_count": 10,
   "metadata": {},
   "outputs": [
    {
     "data": {
      "text/plain": [
       "array([2.24346027e-01, 3.31641953e-01, 2.48731464e-01, 1.26168134e-01,\n",
       "       4.86844431e-02, 1.52403474e-02, 4.03096145e-03, 9.26370022e-04,\n",
       "       1.88798238e-04, 3.46586138e-05, 5.80155057e-06])"
      ]
     },
     "execution_count": 10,
     "metadata": {},
     "output_type": "execute_result"
    }
   ],
   "source": [
    "size = a + sy2\n",
    "mu = (a + sy2) / (b + n2)\n",
    "prob = size/(size+mu)\n",
    "\n",
    "pp2 = nbinom.pmf(k=y, n=size, p=prob)\n",
    "pp2"
   ]
  },
  {
   "cell_type": "code",
   "execution_count": 11,
   "metadata": {},
   "outputs": [
    {
     "data": {
      "image/png": "[encoded data removed]",
      "text/plain": [
       "<Figure size 432x288 with 1 Axes>"
      ]
     },
     "metadata": {
      "needs_background": "light"
     },
     "output_type": "display_data"
    }
   ],
   "source": [
    "width = 0.35\n",
    "plt.bar(y, pp1, width, label='Less than Bachelors')\n",
    "plt.bar(y+width, pp2, width, label=\"Bachelor' or higher\")\n",
    "plt.xticks(y + width / 2, y)\n",
    "plt.legend(loc='best')\n",
    "plt.xlabel('yn+1');\n",
    "plt.ylabel('p(yn+1|y1...yn)');\n",
    "plt.show()"
   ]
  }
 ],
 "metadata": {
  "kernelspec": {
   "display_name": "Python 3",
   "language": "python",
   "name": "python3"
  },
  "language_info": {
   "codemirror_mode": {
    "name": "ipython",
    "version": 3
   },
   "file_extension": ".py",
   "mimetype": "text/x-python",
   "name": "python",
   "nbconvert_exporter": "python",
   "pygments_lexer": "ipython3",
   "version": "3.7.2"
  }
 },
 "nbformat": 4,
 "nbformat_minor": 4
}
