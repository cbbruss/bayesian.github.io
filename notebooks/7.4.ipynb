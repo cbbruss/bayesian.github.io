{
 "cells": [
  {
   "cell_type": "code",
   "execution_count": 1,
   "metadata": {},
   "outputs": [],
   "source": [
    "# 7.4\n",
    "\n",
    "import numpy as np\n",
    "from numpy.linalg import inv\n",
    "import matplotlib.pyplot as plt\n",
    "import seaborn as sns\n",
    "from scipy.stats import multivariate_normal, wishart"
   ]
  },
  {
   "cell_type": "code",
   "execution_count": 2,
   "metadata": {},
   "outputs": [],
   "source": [
    "mu0 = [50, 50]\n",
    "L0 = np.array([[625, 312.5],\n",
    "              [312.5, 625]])\n",
    "\n",
    "nu0 = 4\n",
    "S0 = np.array([[625, 312.5],\n",
    "              [312.5, 625]])"
   ]
  },
  {
   "cell_type": "code",
   "execution_count": 3,
   "metadata": {},
   "outputs": [],
   "source": [
    "Y = np.array([59, 43, 34, 32, 42, 38, 55, 67, 64, 45, 49, 72, 34, \n",
    "70, 34, 50, 41, 52, 60, 34, 28, 35, 77, 39, 46, 26, 38, 43, 68, \n",
    "86, 77, 60, 50, 59, 38, 48, 55, 58, 54, 60, 75, 47, 48, 33])\n",
    "\n",
    "Y = Y.reshape((2,22)).T\n",
    "n = Y.shape[0]\n",
    "ybar = np.mean(Y, axis=0)\n",
    "Sigma = np.cov(Y, rowvar=False, ddof=1)\n",
    "THETA = []\n",
    "SIGMA = []"
   ]
  },
  {
   "cell_type": "code",
   "execution_count": 4,
   "metadata": {},
   "outputs": [],
   "source": [
    "for s in range(5000):\n",
    "    # Update Theta\n",
    "    L0_inv = inv(L0)\n",
    "    Sigma_inv = inv(Sigma)\n",
    "    Ln = inv( L0_inv + n * Sigma_inv)\n",
    "    mun = np.matmul(Ln, np.matmul(L0_inv, mu0) + n * np.matmul(Sigma_inv, ybar))\n",
    "    theta = multivariate_normal(mean=mun, cov=Ln).rvs(1)\n",
    "    \n",
    "    # Update Sigma\n",
    "    Sn = S0 + np.matmul((Y - theta).T, (Y - theta))\n",
    "    Sigma = inv(wishart(nu0 + n, inv(Sn)).rvs(1))\n",
    "    \n",
    "    THETA.append(theta)\n",
    "    SIGMA.append(Sigma)\n",
    "\n",
    "THETA = np.array(THETA)\n",
    "SIGMA = np.array(SIGMA)"
   ]
  },
  {
   "cell_type": "code",
   "execution_count": 5,
   "metadata": {},
   "outputs": [
    {
     "data": {
      "text/plain": [
       "array([ 1.60461653,  6.64424437, 11.60886974])"
      ]
     },
     "execution_count": 5,
     "metadata": {},
     "output_type": "execute_result"
    }
   ],
   "source": [
    "np.quantile(THETA[:,1] - THETA[:,0], [0.025, 0.5, 0.975])"
   ]
  },
  {
   "cell_type": "code",
   "execution_count": 6,
   "metadata": {},
   "outputs": [
    {
     "data": {
      "text/plain": [
       "0.992"
      ]
     },
     "execution_count": 6,
     "metadata": {},
     "output_type": "execute_result"
    }
   ],
   "source": [
    "np.mean(THETA[:,1] > THETA[:,0])"
   ]
  },
  {
   "cell_type": "code",
   "execution_count": 7,
   "metadata": {},
   "outputs": [
    {
     "data": {
      "image/png": "[encoded data removed]",
      "text/plain": [
       "<Figure size 432x288 with 1 Axes>"
      ]
     },
     "metadata": {
      "needs_background": "light"
     },
     "output_type": "display_data"
    }
   ],
   "source": [
    "ax = sns.kdeplot(THETA[:,0], THETA[:,1], shade=True, n_levels=4, cmap=\"Blues\")\n",
    "ax.set(xlabel=r\"$\\theta_1$\", ylabel=r\"$\\theta_2$\");"
   ]
  },
  {
   "cell_type": "code",
   "execution_count": 8,
   "metadata": {},
   "outputs": [
    {
     "data": {
      "image/png": "[encoded data removed]",
      "text/plain": [
       "<Figure size 432x288 with 1 Axes>"
      ]
     },
     "metadata": {
      "needs_background": "light"
     },
     "output_type": "display_data"
    }
   ],
   "source": [
    "ax = sns.kdeplot(Y[:,0], Y[:,1], shade=True, n_levels=4, cmap=\"Blues\")\n",
    "ax.set(xlabel=r\"$y_1$\", ylabel=r\"$y_2$\");"
   ]
  },
  {
   "cell_type": "code",
   "execution_count": null,
   "metadata": {},
   "outputs": [],
   "source": []
  }
 ],
 "metadata": {
  "kernelspec": {
   "display_name": "Python 3",
   "language": "python",
   "name": "python3"
  },
  "language_info": {
   "codemirror_mode": {
    "name": "ipython",
    "version": 3
   },
   "file_extension": ".py",
   "mimetype": "text/x-python",
   "name": "python",
   "nbconvert_exporter": "python",
   "pygments_lexer": "ipython3",
   "version": "3.7.2"
  }
 },
 "nbformat": 4,
 "nbformat_minor": 4
}
