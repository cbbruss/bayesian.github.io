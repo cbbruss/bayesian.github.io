{
 "cells": [
  {
   "cell_type": "code",
   "execution_count": 1,
   "metadata": {},
   "outputs": [],
   "source": [
    "# 5.3\n",
    "\n",
    "import numpy as np\n",
    "import matplotlib.pyplot as plt\n",
    "from scipy.stats import gamma, norm"
   ]
  },
  {
   "cell_type": "code",
   "execution_count": 2,
   "metadata": {},
   "outputs": [],
   "source": [
    "# Prior\n",
    "\n",
    "mu0 = 1.9\n",
    "k0 = 1\n",
    "s20 = 0.010\n",
    "nu0 = 1"
   ]
  },
  {
   "cell_type": "code",
   "execution_count": 3,
   "metadata": {},
   "outputs": [],
   "source": [
    "# Data\n",
    "\n",
    "y = np.array([1.64, 1.70, 1.72, 1.74, 1.82, 1.82, 1.82, 1.9, 2.08])\n",
    "n = len(y)\n",
    "ybar = np.mean(y)\n",
    "s2 = np.var(y, ddof=1)"
   ]
  },
  {
   "cell_type": "code",
   "execution_count": 4,
   "metadata": {},
   "outputs": [
    {
     "name": "stdout",
     "output_type": "stream",
     "text": [
      "1.814\n",
      "0.015324\n",
      "0.12379014500355026\n"
     ]
    }
   ],
   "source": [
    "# Posterior Inference\n",
    "\n",
    "kn = k0 + n\n",
    "nun = nu0 + n\n",
    "mun = (k0 * mu0  + n * ybar) / kn\n",
    "s2n = (nu0 * s20 + (n - 1) * s2 + (k0 * n * (ybar - mu0) ** 2) / kn )  / nun\n",
    "\n",
    "print(mun)\n",
    "print(s2n)\n",
    "print(np.sqrt(s2n))"
   ]
  },
  {
   "cell_type": "code",
   "execution_count": 5,
   "metadata": {},
   "outputs": [],
   "source": [
    "thetas = np.linspace(1.6, 2.0)\n",
    "s2ls = np.linspace(15, 160)\n",
    "Y, X = np.meshgrid(s2ls, thetas)\n",
    "\n",
    "density = []\n",
    "for theta in thetas:\n",
    "    for s2l in s2ls:\n",
    "        theta_post = norm.pdf(theta, mun, 1/(np.sqrt(10 * s2l)))      \n",
    "        s2_post = gamma.pdf(s2l, a=nun/2, scale=2/(10*s2n))\n",
    "        density.append(theta_post * s2_post)"
   ]
  },
  {
   "cell_type": "code",
   "execution_count": 6,
   "metadata": {},
   "outputs": [
    {
     "data": {
      "image/png": "[encoded data removed]",
      "text/plain": [
       "<Figure size 432x288 with 1 Axes>"
      ]
     },
     "metadata": {
      "needs_background": "light"
     },
     "output_type": "display_data"
    }
   ],
   "source": [
    "density = np.array(density).reshape(50, 50)\n",
    "\n",
    "cp = plt.contourf(X, Y, density)"
   ]
  },
  {
   "cell_type": "code",
   "execution_count": 7,
   "metadata": {},
   "outputs": [],
   "source": [
    "thetas = np.linspace(1.6, 2.0)\n",
    "s2s = np.linspace(0.005, 0.06)\n",
    "Y, X = np.meshgrid(s2s, thetas)\n",
    "\n",
    "density = []\n",
    "for theta in thetas:\n",
    "    for s2l in s2s:\n",
    "        theta_post = norm.pdf(theta, mun, 1/(np.sqrt(10 / s2l)))      \n",
    "        s2_post = gamma.pdf(1/s2l, a=nun/2, scale=2/(10*s2n))\n",
    "        density.append(theta_post * s2_post)"
   ]
  },
  {
   "cell_type": "code",
   "execution_count": 8,
   "metadata": {},
   "outputs": [
    {
     "data": {
      "image/png": "[encoded data removed]",
      "text/plain": [
       "<Figure size 432x288 with 1 Axes>"
      ]
     },
     "metadata": {
      "needs_background": "light"
     },
     "output_type": "display_data"
    }
   ],
   "source": [
    "density = np.array(density).reshape(50, 50)\n",
    "\n",
    "cp = plt.contourf(X, Y, density)"
   ]
  }
 ],
 "metadata": {
  "kernelspec": {
   "display_name": "Python 3",
   "language": "python",
   "name": "python3"
  },
  "language_info": {
   "codemirror_mode": {
    "name": "ipython",
    "version": 3
   },
   "file_extension": ".py",
   "mimetype": "text/x-python",
   "name": "python",
   "nbconvert_exporter": "python",
   "pygments_lexer": "ipython3",
   "version": "3.7.2"
  }
 },
 "nbformat": 4,
 "nbformat_minor": 4
}
