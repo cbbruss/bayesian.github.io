{
 "cells": [
  {
   "cell_type": "code",
   "execution_count": 1,
   "metadata": {},
   "outputs": [],
   "source": [
    "# 4.3\n",
    "\n",
    "from scipy.stats import gamma, poisson\n",
    "import numpy as np\n",
    "import matplotlib.pyplot as plt\n"
   ]
  },
  {
   "cell_type": "code",
   "execution_count": 2,
   "metadata": {},
   "outputs": [],
   "source": [
    "a = 2\n",
    "b = 1\n",
    "\n",
    "sy1 = 217\n",
    "n1 = 111\n",
    "\n",
    "sy2 = 66\n",
    "n2 = 44\n",
    "\n",
    "shape1 = a + sy1\n",
    "rate1 = b + n1\n",
    "scale1 = 1 / rate1\n",
    "\n",
    "shape2 = a + sy2\n",
    "rate2 = b + n2\n",
    "scale2 = 1 / rate2"
   ]
  },
  {
   "cell_type": "code",
   "execution_count": 3,
   "metadata": {},
   "outputs": [],
   "source": [
    "theta1_mc = gamma(a=shape1, scale=scale1).rvs(10000)\n",
    "theta2_mc = gamma(a=shape2, scale=scale2).rvs(10000)"
   ]
  },
  {
   "cell_type": "code",
   "execution_count": 4,
   "metadata": {},
   "outputs": [],
   "source": [
    "y1_mc = poisson(theta1_mc).rvs(10000)\n",
    "y2_mc = poisson(theta2_mc).rvs(10000)"
   ]
  },
  {
   "cell_type": "code",
   "execution_count": 5,
   "metadata": {},
   "outputs": [
    {
     "data": {
      "text/plain": [
       "0.4848"
      ]
     },
     "execution_count": 5,
     "metadata": {},
     "output_type": "execute_result"
    }
   ],
   "source": [
    "np.mean(y1_mc > y2_mc)"
   ]
  },
  {
   "cell_type": "code",
   "execution_count": 6,
   "metadata": {},
   "outputs": [
    {
     "data": {
      "image/png": "[encoded data removed]",
      "text/plain": [
       "<Figure size 432x288 with 1 Axes>"
      ]
     },
     "metadata": {
      "needs_background": "light"
     },
     "output_type": "display_data"
    }
   ],
   "source": [
    "D = y1_mc - y2_mc\n",
    "plt.hist(y1_mc - y2_mc, bins=range(-8, 9), \n",
    "         rwidth=0.2, align='left');\n",
    "\n",
    "plt.xlabel('D = Y1 - Y2');\n",
    "plt.ylabel('p(D|y1, y2,...yn)');"
   ]
  },
  {
   "cell_type": "code",
   "execution_count": null,
   "metadata": {},
   "outputs": [],
   "source": []
  },
  {
   "cell_type": "code",
   "execution_count": 7,
   "metadata": {},
   "outputs": [],
   "source": [
    "# 4.4\n",
    "\n",
    "a = 2\n",
    "b = 1\n",
    "\n",
    "sy1 = 217\n",
    "n1 = 111\n",
    "\n",
    "shape1 = a + sy1\n",
    "rate1 = b + n1\n",
    "scale1 = 1 / rate1\n",
    "\n",
    "t_mc = []\n",
    "\n",
    "for s in range(10000):\n",
    "    theta1_mc = gamma(a=shape1, scale=scale1).rvs(1)\n",
    "    y1_mc = poisson(theta1_mc).rvs(n1)\n",
    "    t = sum(y1_mc==2) / sum(y1_mc==1)\n",
    "    t_mc.append(t)"
   ]
  },
  {
   "cell_type": "code",
   "execution_count": 8,
   "metadata": {},
   "outputs": [
    {
     "data": {
      "image/png": "[encoded data removed]",
      "text/plain": [
       "<Figure size 432x288 with 1 Axes>"
      ]
     },
     "metadata": {
      "needs_background": "light"
     },
     "output_type": "display_data"
    }
   ],
   "source": [
    "plt.hist(t_mc, density=True);\n",
    "plt.xlabel('t(Y)');"
   ]
  },
  {
   "cell_type": "code",
   "execution_count": null,
   "metadata": {},
   "outputs": [],
   "source": []
  }
 ],
 "metadata": {
  "kernelspec": {
   "display_name": "Python 3",
   "language": "python",
   "name": "python3"
  },
  "language_info": {
   "codemirror_mode": {
    "name": "ipython",
    "version": 3
   },
   "file_extension": ".py",
   "mimetype": "text/x-python",
   "name": "python",
   "nbconvert_exporter": "python",
   "pygments_lexer": "ipython3",
   "version": "3.7.2"
  }
 },
 "nbformat": 4,
 "nbformat_minor": 4
}
