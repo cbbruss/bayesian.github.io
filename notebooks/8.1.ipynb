{
 "cells": [
  {
   "cell_type": "code",
   "execution_count": 1,
   "metadata": {},
   "outputs": [],
   "source": [
    "# 8.1\n",
    "# Construct a Gibbs Sampler to compute the probability of the population mean, standard deviation and the difference \n",
    "# the two subpopulations conditioned on the data from the two subpopulations"
   ]
  },
  {
   "cell_type": "code",
   "execution_count": 2,
   "metadata": {},
   "outputs": [],
   "source": [
    "import pandas as pd\n",
    "import numpy as np\n",
    "from scipy.stats import gamma, norm\n",
    "import seaborn as sns"
   ]
  },
  {
   "cell_type": "code",
   "execution_count": 3,
   "metadata": {},
   "outputs": [],
   "source": [
    "# Read Data In\n",
    "Y_school_mathscore = pd.read_csv('Y.school.mathscore', index_col=0)\n",
    "y1 = pd.read_csv('y.school1', index_col=0)\n",
    "y2 = pd.read_csv('y.school2', index_col=0)\n",
    "n1 = len(y1)\n",
    "n2 = len(y2)"
   ]
  },
  {
   "cell_type": "code",
   "execution_count": 4,
   "metadata": {},
   "outputs": [],
   "source": [
    "# Set prior parameters\n",
    "mu0 = 50\n",
    "g02 = 625\n",
    "delta0 = 0\n",
    "t02 = 625\n",
    "s20 = 100\n",
    "nu0 = 1"
   ]
  },
  {
   "cell_type": "code",
   "execution_count": 5,
   "metadata": {},
   "outputs": [],
   "source": [
    "# Starting Values\n",
    "mu = (np.mean(y1) + np.mean(y2)) / 2\n",
    "delta = (np.mean(y1) - np.mean(y2)) / 2"
   ]
  },
  {
   "cell_type": "code",
   "execution_count": 6,
   "metadata": {},
   "outputs": [],
   "source": [
    "# Gibbs Sampler\n",
    "MU = []\n",
    "DELTA = []\n",
    "S2 = []\n",
    "\n",
    "for s in range(5000):\n",
    "    \n",
    "    # Update s2\n",
    "    size = 1\n",
    "    shape = (nu0 + n1 + n2) / 2\n",
    "    rate = (nu0 * s20 + np.sum((y1 - mu - delta)**2) + np.sum((y2 - mu + delta)**2)) / 2\n",
    "    s2 = 1 / gamma.rvs(a=shape, scale=1/rate, size=1)[0]\n",
    "    \n",
    "    # Update mu\n",
    "    var_mu = 1 / (1 / g02 + (n1 + n2) / s2)\n",
    "    mean_mu = var_mu * (mu0 / g02 + np.sum(y1 - delta) / s2 + np.sum(y2 + delta) / s2)\n",
    "    mu = norm.rvs(loc=mean_mu, scale=np.sqrt(var_mu), size=1)[0]\n",
    "    \n",
    "    # Update delta\n",
    "    var_del = 1 / (1 / t02 + (n1 + n2) / s2)\n",
    "    mean_del = var_del * (delta0 / t02 + np.sum(y1 - mu)/s2 - np.sum(y2 - mu) / s2)\n",
    "    delta = norm.rvs(loc=mean_del, scale=np.sqrt(var_del), size=1)[0]\n",
    "    \n",
    "    # Save parameters\n",
    "    MU.append(mu)\n",
    "    DELTA.append(delta)\n",
    "    S2.append(s2)\n",
    "    "
   ]
  },
  {
   "cell_type": "code",
   "execution_count": 7,
   "metadata": {},
   "outputs": [
    {
     "data": {
      "image/png": "[encoded data removed]",
      "text/plain": [
       "<Figure size 432x288 with 1 Axes>"
      ]
     },
     "metadata": {
      "needs_background": "light"
     },
     "output_type": "display_data"
    }
   ],
   "source": [
    "prior_mu = norm(loc=mu0, scale=np.sqrt(g02))\n",
    "prior_mus = prior_mu.rvs(1000)\n",
    "\n",
    "sns.kdeplot(MU);\n",
    "sns.kdeplot(prior_mus);"
   ]
  },
  {
   "cell_type": "code",
   "execution_count": 8,
   "metadata": {},
   "outputs": [
    {
     "data": {
      "image/png": "[encoded data removed]",
      "text/plain": [
       "<Figure size 432x288 with 1 Axes>"
      ]
     },
     "metadata": {
      "needs_background": "light"
     },
     "output_type": "display_data"
    }
   ],
   "source": [
    "prior_del = norm(loc=0, scale=np.sqrt(t02))\n",
    "prior_dels = prior_del.rvs(1000)\n",
    "\n",
    "sns.kdeplot(DELTA);\n",
    "sns.kdeplot(prior_dels);"
   ]
  },
  {
   "cell_type": "code",
   "execution_count": null,
   "metadata": {},
   "outputs": [],
   "source": []
  }
 ],
 "metadata": {
  "kernelspec": {
   "display_name": "Python 3",
   "language": "python",
   "name": "python3"
  },
  "language_info": {
   "codemirror_mode": {
    "name": "ipython",
    "version": 3
   },
   "file_extension": ".py",
   "mimetype": "text/x-python",
   "name": "python",
   "nbconvert_exporter": "python",
   "pygments_lexer": "ipython3",
   "version": "3.7.2"
  }
 },
 "nbformat": 4,
 "nbformat_minor": 2
}
